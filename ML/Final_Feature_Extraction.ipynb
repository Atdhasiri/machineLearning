{
  "nbformat": 4,
  "nbformat_minor": 0,
  "metadata": {
    "colab": {
      "name": "Final Feature Extraction",
      "provenance": [],
      "collapsed_sections": []
    },
    "kernelspec": {
      "name": "python3",
      "display_name": "Python 3"
    }
  },
  "cells": [
    {
      "cell_type": "markdown",
      "metadata": {
        "id": "dLiPJWPJHTe0"
      },
      "source": [
        "**Import**"
      ]
    },
    {
      "cell_type": "code",
      "metadata": {
        "id": "KpAoognAm9-g"
      },
      "source": [
        "from matplotlib import pyplot as plt\n",
        "from matplotlib import patches\n",
        "from scipy import signal\n",
        "import cv2\n",
        "import numpy as np\n",
        "from skimage.feature import greycomatrix, greycoprops\n",
        "from skimage import data\n",
        "from PIL import Image\n",
        "from skimage.io import imread,imshow\n",
        "from skimage import morphology\n",
        "from scipy.stats import skew, kurtosis,entropy\n",
        "import os\n",
        "import csv"
      ],
      "execution_count": null,
      "outputs": []
    },
    {
      "cell_type": "markdown",
      "metadata": {
        "id": "rZqlx1VJHYJV"
      },
      "source": [
        "**Connect to Drive For GOOGLE DRIVE**"
      ]
    },
    {
      "cell_type": "code",
      "metadata": {
        "colab": {
          "base_uri": "https://localhost:8080/"
        },
        "id": "MljEex0_niOg",
        "outputId": "0b735fe7-8a1f-46b5-d51d-9d8b4a9119e4"
      },
      "source": [
        "from google.colab import drive\n",
        "drive.mount('/content/drive')"
      ],
      "execution_count": null,
      "outputs": [
        {
          "output_type": "stream",
          "text": [
            "Mounted at /content/drive\n"
          ],
          "name": "stdout"
        }
      ]
    },
    {
      "cell_type": "markdown",
      "metadata": {
        "id": "yId9tISpyZg7"
      },
      "source": [
        "**CLAHE**"
      ]
    },
    {
      "cell_type": "code",
      "metadata": {
        "id": "Q_3qnCEso122"
      },
      "source": [
        "def prebpicture(bgr):\t\n",
        "  bgr = cv2.resize(bgr, (256, 256))\n",
        "  lab = cv2.cvtColor(bgr, cv2.COLOR_BGR2LAB)\n",
        "  lab_planes = cv2.split(lab)\n",
        "  clahe = cv2.createCLAHE(clipLimit=2.0,tileGridSize=(8,8))\n",
        "  lab_planes[0] = clahe.apply(lab_planes[0])\n",
        "  lab = cv2.merge(lab_planes)\n",
        "  bgr = cv2.cvtColor(lab, cv2.COLOR_LAB2BGR)\n",
        "  #save image to temp file\n",
        "  #cv2.imwrite('/content/drive/MyDrive/Dataset/temp/clahe-output.jpg',bgr)\n",
        "  return bgr\n"
      ],
      "execution_count": null,
      "outputs": []
    },
    {
      "cell_type": "markdown",
      "metadata": {
        "id": "VeEciw8lyTtS"
      },
      "source": [
        "**SEGMENT CUP AND DISC**\n",
        "ref : https://github.com/jahin07/optic-cup-disc"
      ]
    },
    {
      "cell_type": "code",
      "metadata": {
        "id": "iLkomop9rQHQ"
      },
      "source": [
        "def segment_cd(image,plotHis,plotPic):\n",
        "  #PRE-PROCESSING AND SMOOTHING\n",
        "\n",
        "  Abo,Ago,Aro = cv2.split(image)  #splitting into 3 colors\n",
        "\n",
        "\n",
        "  Ar = Aro - Aro.mean()           #Preprocessing Red\n",
        "  Ar = Ar - Ar.mean() - Aro.std() #Preprocessing Red\n",
        "  Ar = Ar - Ar.mean() - Aro.std() #Preprocessing Red\n",
        "\n",
        "  Mr = Ar.mean()                           #Mean of preprocessed red\n",
        "  SDr = Ar.std()                           #SD of preprocessed red\n",
        "  Thr = 49.5 - 12 - Ar.std()               #OD Threshold\n",
        "\n",
        "\n",
        "  Ag = Ago - Ago.mean()           #Preprocessing Green\n",
        "  Ag = Ag - Ag.mean() - Ago.std() #Preprocessing Green\n",
        "\n",
        "  Mg = Ag.mean()                           #Mean of preprocessed green\n",
        "  SDg = Ag.std()                           #SD of preprocessed green\n",
        "  Thg = Ag.mean() + 2*Ag.std() + 49.5 + 12 #OC Threshold\n",
        "\n",
        "  filter = signal.gaussian(99, std=6) #Gaussian Window\n",
        "  filter=filter/sum(filter)\n",
        "\n",
        "  hist,bins = np.histogram(Ag.ravel(),256,[0,256])   #Histogram of preprocessed green channel\n",
        "  histr,binsr = np.histogram(Ar.ravel(),256,[0,256]) #Histogram of preprocessed red channel\n",
        "\n",
        "  smooth_hist_g=np.convolve(filter,hist)  #Histogram Smoothing Green\n",
        "  smooth_hist_r=np.convolve(filter,histr) #Histogram Smoothing Red\n",
        "\n",
        "  if plotHis:\n",
        "    plt.subplot(2, 2, 1)\n",
        "    plt.plot(hist)\n",
        "    plt.title(\"Preprocessed Green Channel\")\n",
        "\n",
        "    plt.subplot(2, 2, 2)\n",
        "    plt.plot(smooth_hist_g)\n",
        "    plt.title(\"Smoothed Histogram Green Channel\")\n",
        "\n",
        "    plt.subplot(2, 2, 3)\n",
        "    plt.plot(histr)\n",
        "    plt.title(\"Preprocessed Red Channel\")\n",
        "\n",
        "    plt.subplot(2, 2, 4)\n",
        "    plt.plot(smooth_hist_r)\n",
        "    plt.title(\"Smoothed Histogram Red Channel\")\n",
        "\n",
        "    plt.show()\n",
        "\n",
        "  #APPLYING THRESHOLD\n",
        "\n",
        "  r,c = Ag.shape\n",
        "  Dd = np.zeros(shape=(r,c))\n",
        "  Dc = np.zeros(shape=(r,c))\n",
        "\n",
        "  for i in range(1,r):\n",
        "    for j in range(1,c):\n",
        "      if Ar[i,j]>Thr:\n",
        "        Dd[i,j]=255\n",
        "      else:\n",
        "        Dd[i,j]=0\n",
        "\n",
        "  for i in range(1,r):\n",
        "    for j in range(1,c):\n",
        "      if Ag[i,j]>Thg:\n",
        "        Dc[i,j]=1\n",
        "      else:\n",
        "        Dc[i,j]=0\n",
        "\n",
        "  #DISPLAYING SEGMENTED OPTIC DISK AND CUP\n",
        "  if plotPic:\n",
        "    plt.imshow(Dd, cmap = 'gray', interpolation = 'bicubic')\n",
        "    plt.axis(\"off\")\n",
        "    plt.title(\"Optic Disk\")\n",
        "    plt.show()\n",
        "\n",
        "    plt.imshow(Dc, cmap = 'gray', interpolation = 'bicubic')\n",
        "    plt.axis(\"off\")\n",
        "    plt.title(\"Optic Cup\")\n",
        "    plt.show()\t\t\n",
        "\n",
        "  #save image to temp file\n",
        "\n",
        "  #cv2.imwrite('/content/drive/MyDrive/Dataset/temp/disk.png',Dd)\n",
        "  #plt.imsave('/content/drive/MyDrive/Dataset/temp/cup.png',Dc , cmap='gray')\n",
        "\n"
      ],
      "execution_count": null,
      "outputs": []
    },
    {
      "cell_type": "markdown",
      "metadata": {
        "id": "K1HJKftBJlmb"
      },
      "source": [
        "**CDR** ref : https://github.com/NupurBhaisare/Cup-and-disc-segmentation-for-glaucoma-detection-CDR-Calculation-"
      ]
    },
    {
      "cell_type": "code",
      "metadata": {
        "id": "jwex7iT-r6qn",
        "colab": {
          "base_uri": "https://localhost:8080/",
          "height": 528
        },
        "outputId": "4eb97f4b-6805-4761-f940-fd9361c98b65"
      },
      "source": [
        "def cdr(cup,disc,plot):\n",
        "  \n",
        "    clahe = cv2.createCLAHE(clipLimit=2.0, tileGridSize=(10,10))\n",
        "    #morphological closing and opening operations\n",
        "    R1 = cv2.morphologyEx(cup, cv2.MORPH_CLOSE, cv2.getStructuringElement(cv2.MORPH_ELLIPSE,(2,2)), iterations = 1)\n",
        "    r1 = cv2.morphologyEx(R1, cv2.MORPH_OPEN, cv2.getStructuringElement(cv2.MORPH_ELLIPSE,(7,7)), iterations = 1)\n",
        "    R2 = cv2.morphologyEx(r1, cv2.MORPH_CLOSE, cv2.getStructuringElement(cv2.MORPH_ELLIPSE,(1,21)), iterations = 1)\n",
        "    r2 = cv2.morphologyEx(R2, cv2.MORPH_OPEN, cv2.getStructuringElement(cv2.MORPH_ELLIPSE,(21,1)), iterations = 1)\n",
        "    R3 = cv2.morphologyEx(r2, cv2.MORPH_CLOSE, cv2.getStructuringElement(cv2.MORPH_ELLIPSE,(33,33)), iterations = 1)\t\n",
        "    r3 = cv2.morphologyEx(R3, cv2.MORPH_OPEN, cv2.getStructuringElement(cv2.MORPH_ELLIPSE,(43,43)), iterations = 1)\n",
        "\n",
        "    img = clahe.apply(r3)\n",
        "    \n",
        "    \n",
        "    ret,thresh = cv2.threshold(cup,127,255,0)\n",
        "    contours,hierarchy = cv2.findContours(thresh, cv2.RETR_EXTERNAL,cv2.CHAIN_APPROX_SIMPLE) #Getting all possible contours in the segmented image\n",
        "    cup_diameter = 0\n",
        "    largest_area = 0\n",
        "    el_cup = contours[0]\n",
        "    if len(contours) != 0:\n",
        "        for i in range(len(contours)):\n",
        "            if len(contours[i]) >= 5:\n",
        "                area = cv2.contourArea(contours[i]) #Getting the contour with the largest area\n",
        "                if (area>largest_area):\n",
        "                    largest_area=area\n",
        "                    index = i\n",
        "                    el_cup = cv2.fitEllipse(contours[i])\n",
        "                \n",
        "    cv2.ellipse(img,el_cup,(140,60,150),3)  #fitting ellipse with the largest area\n",
        "    x,y,w,h = cv2.boundingRect(contours[index]) #fitting a rectangle on the ellipse to get the length of major axis\n",
        "    cup_diameter = max(w,h) #major axis is the diameter\n",
        "\n",
        "    #morphological closing and opening operations\n",
        "    R1 = cv2.morphologyEx(disc, cv2.MORPH_CLOSE, cv2.getStructuringElement(cv2.MORPH_ELLIPSE,(2,2)), iterations = 1)\n",
        "    r1 = cv2.morphologyEx(R1, cv2.MORPH_OPEN, cv2.getStructuringElement(cv2.MORPH_ELLIPSE,(7,7)), iterations = 1)\n",
        "    R2 = cv2.morphologyEx(r1, cv2.MORPH_CLOSE, cv2.getStructuringElement(cv2.MORPH_ELLIPSE,(1,21)), iterations = 1)\n",
        "    r2 = cv2.morphologyEx(R2, cv2.MORPH_OPEN, cv2.getStructuringElement(cv2.MORPH_ELLIPSE,(21,1)), iterations = 1)\n",
        "    R3 = cv2.morphologyEx(r2, cv2.MORPH_CLOSE, cv2.getStructuringElement(cv2.MORPH_ELLIPSE,(33,33)), iterations = 1)\n",
        "    r3 = cv2.morphologyEx(R3, cv2.MORPH_OPEN, cv2.getStructuringElement(cv2.MORPH_ELLIPSE,(43,43)), iterations = 1)\n",
        "\n",
        "    img2 = clahe.apply(r3)\n",
        "    \n",
        "    ret,thresh = cv2.threshold(disc,127,255,0)\n",
        "    contours,hierarchy = cv2.findContours(thresh, cv2.RETR_EXTERNAL,cv2.CHAIN_APPROX_SIMPLE) #Getting all possible contours in the segmented image\n",
        "    disk_diameter = 0\n",
        "    largest_area = 0\n",
        "    el_disc = el_cup\n",
        "    if len(contours) != 0:\n",
        "          for i in range(len(contours)):\n",
        "            if len(contours[i]) >= 5:\n",
        "                area = cv2.contourArea(contours[i]) #Getting the contour with the largest area\n",
        "                if (area>largest_area):\n",
        "                    largest_area=area\n",
        "                    index = i\n",
        "                    el_disc = cv2.fitEllipse(contours[i])\n",
        "                    \n",
        "    cv2.ellipse(img2,el_disc,(140,60,150),3) #fitting ellipse with the largest area\n",
        "    x,y,w,h = cv2.boundingRect(contours[index]) #fitting a rectangle on the ellipse to get the length of major axis\n",
        "    disk_diameter = max(w,h) #major axis is the diameter\n",
        "                \n",
        "    if plot:\n",
        "        plt.imshow(img2, cmap = 'gray', interpolation = 'bicubic')\n",
        "        plt.axis(\"off\")\n",
        "        plt.title(\"Optic Disk\")\n",
        "        plt.show()\n",
        "        plt.imshow(img)\n",
        "        plt.axis(\"off\")\n",
        "        plt.title(\"Optic Cup\")\n",
        "        plt.show()   \n",
        "    if(disk_diameter == 0): return 1 # if disc not segmented properly then cdr might be infinity\n",
        "    cdr = cup_diameter/disk_diameter #ration of major axis of cup and disc\n",
        "    cv2.imwrite('/content/drive/MyDrive/Dataset/test Augment dont mind it/disk_forRatio.png',img2)\n",
        "    plt.imsave('/content/drive/MyDrive/Dataset/test Augment dont mind it/cup_forRatio.png',img)\n",
        "    return cdr\n",
        "img_disk = cv2.imread('/content/drive/MyDrive/Dataset/test Augment dont mind it/disk.png',0)\n",
        "img_cup = cv2.imread('/content/drive/MyDrive/Dataset/test Augment dont mind it/cup.png',0)\n",
        "cdr_cal = cdr(img_cup,img_disk,True)\n",
        "cdr_cal"
      ],
      "execution_count": null,
      "outputs": [
        {
          "output_type": "display_data",
          "data": {
            "image/png": "[encoded data removed]",
            "text/plain": [
              "<Figure size 432x288 with 1 Axes>"
            ]
          },
          "metadata": {
            "tags": [],
            "needs_background": "light"
          }
        },
        {
          "output_type": "display_data",
          "data": {
            "image/png": "[encoded data removed]",
            "text/plain": [
              "<Figure size 432x288 with 1 Axes>"
            ]
          },
          "metadata": {
            "tags": [],
            "needs_background": "light"
          }
        },
        {
          "output_type": "execute_result",
          "data": {
            "text/plain": [
              "0.3170731707317073"
            ]
          },
          "metadata": {
            "tags": []
          },
          "execution_count": 24
        }
      ]
    },
    {
      "cell_type": "markdown",
      "metadata": {
        "id": "fsa7LSScyQuk"
      },
      "source": [
        "**MA** ref : https://github.com/getsanjeev/retina-features"
      ]
    },
    {
      "cell_type": "code",
      "metadata": {
        "id": "yYyBRK97wuX5"
      },
      "source": [
        "def adjust_gamma(image, gamma=1.0):\n",
        "\n",
        "   \n",
        "   table = np.array([((i / 255.0) ** gamma) * 255\n",
        "      for i in np.arange(0, 256)]).astype(\"uint8\")\n",
        "\n",
        "   return cv2.LUT(image, table)\n",
        "def extract_ma(image):\n",
        "    r,g,b=cv2.split(image)\n",
        "    comp=255-g\n",
        "    clahe = cv2.createCLAHE(clipLimit=5.0, tileGridSize=(8,8))\n",
        "    histe=clahe.apply(comp)\n",
        "    adjustImage = adjust_gamma(histe,gamma=3)\n",
        "    comp = 255-adjustImage\n",
        "    J =  adjust_gamma(comp,gamma=4)\n",
        "    J = 255-J\n",
        "    J = adjust_gamma(J,gamma=4)\n",
        "    \n",
        "    K=np.ones((11,11),np.float32)\n",
        "    L = cv2.filter2D(J,-1,K)\n",
        "    \n",
        "    ret3,thresh2 = cv2.threshold(L,125,255,cv2.THRESH_BINARY|cv2.THRESH_OTSU)\n",
        "    kernel2=np.ones((9,9),np.uint8)\n",
        "    tophat = cv2.morphologyEx(thresh2, cv2.MORPH_TOPHAT, kernel2)\n",
        "    kernel3=np.ones((7,7),np.uint8)\n",
        "    opening = cv2.morphologyEx(tophat, cv2.MORPH_OPEN, kernel3)\n",
        "    return opening\n"
      ],
      "execution_count": null,
      "outputs": []
    },
    {
      "cell_type": "markdown",
      "metadata": {
        "id": "xQi-C6O-yMQ2"
      },
      "source": [
        "**GLCM** ref : https://github.com/tzm030329/GLCM"
      ]
    },
    {
      "cell_type": "code",
      "metadata": {
        "id": "vHXVzouSx7ND"
      },
      "source": [
        "def fast_glcm(img, vmin=0, vmax=255, nbit=8, kernel_size=5):\n",
        "    mi, ma = vmin, vmax\n",
        "    ks = kernel_size\n",
        "    h,w = img.shape\n",
        "\n",
        "    # digitize\n",
        "    bins = np.linspace(mi, ma+1, nbit+1)\n",
        "    gl1 = np.digitize(img, bins) - 1\n",
        "    gl2 = np.append(gl1[:,1:], gl1[:,-1:], axis=1)\n",
        "\n",
        "    # make glcm\n",
        "    glcm = np.zeros((nbit, nbit, h, w), dtype=np.uint8)\n",
        "    for i in range(nbit):\n",
        "        for j in range(nbit):\n",
        "            mask = ((gl1==i) & (gl2==j))\n",
        "            glcm[i,j, mask] = 1\n",
        "\n",
        "    kernel = np.ones((ks, ks), dtype=np.uint8)\n",
        "    for i in range(nbit):\n",
        "        for j in range(nbit):\n",
        "            glcm[i,j] = cv2.filter2D(glcm[i,j], -1, kernel)\n",
        "\n",
        "    glcm = glcm.astype(np.float32)\n",
        "    return glcm\n",
        "\n",
        "\n",
        "def fast_glcm_mean(img, vmin=0, vmax=255, nbit=8, ks=5):\n",
        "    '''\n",
        "    calc glcm mean\n",
        "    '''\n",
        "    h,w = img.shape\n",
        "    glcm = fast_glcm(img, vmin, vmax, nbit, ks)\n",
        "    mean = np.zeros((h,w), dtype=np.float32)\n",
        "    for i in range(nbit):\n",
        "        for j in range(nbit):\n",
        "            mean += glcm[i,j] * i / (nbit)**2\n",
        "\n",
        "    return mean\n",
        "\n",
        "\n",
        "def fast_glcm_std(img, vmin=0, vmax=255, nbit=8, ks=5):\n",
        "    '''\n",
        "    calc glcm std\n",
        "    '''\n",
        "    h,w = img.shape\n",
        "    glcm = fast_glcm(img, vmin, vmax, nbit, ks)\n",
        "    mean = np.zeros((h,w), dtype=np.float32)\n",
        "    for i in range(nbit):\n",
        "        for j in range(nbit):\n",
        "            mean += glcm[i,j] * i / (nbit)**2\n",
        "\n",
        "    std2 = np.zeros((h,w), dtype=np.float32)\n",
        "    for i in range(nbit):\n",
        "        for j in range(nbit):\n",
        "            std2 += (glcm[i,j] * i - mean)**2\n",
        "\n",
        "    std = np.sqrt(std2)\n",
        "    return std\n",
        "\n",
        "\n",
        "def fast_glcm_contrast(img, vmin=0, vmax=255, nbit=8, ks=5):\n",
        "    '''\n",
        "    calc glcm contrast\n",
        "    '''\n",
        "    h,w = img.shape\n",
        "    glcm = fast_glcm(img, vmin, vmax, nbit, ks)\n",
        "    cont = np.zeros((h,w), dtype=np.float32)\n",
        "    for i in range(nbit):\n",
        "        for j in range(nbit):\n",
        "            cont += glcm[i,j] * (i-j)**2\n",
        "\n",
        "    return cont\n",
        "\n",
        "\n",
        "def fast_glcm_dissimilarity(img, vmin=0, vmax=255, nbit=8, ks=5):\n",
        "    '''\n",
        "    calc glcm dissimilarity\n",
        "    '''\n",
        "    h,w = img.shape\n",
        "    glcm = fast_glcm(img, vmin, vmax, nbit, ks)\n",
        "    diss = np.zeros((h,w), dtype=np.float32)\n",
        "    for i in range(nbit):\n",
        "        for j in range(nbit):\n",
        "            diss += glcm[i,j] * np.abs(i-j)\n",
        "\n",
        "    return diss\n",
        "\n",
        "\n",
        "def fast_glcm_homogeneity(img, vmin=0, vmax=255, nbit=8, ks=5):\n",
        "    '''\n",
        "    calc glcm homogeneity\n",
        "    '''\n",
        "    h,w = img.shape\n",
        "    glcm = fast_glcm(img, vmin, vmax, nbit, ks)\n",
        "    homo = np.zeros((h,w), dtype=np.float32)\n",
        "    for i in range(nbit):\n",
        "        for j in range(nbit):\n",
        "            homo += glcm[i,j] / (1.+(i-j)**2)\n",
        "\n",
        "    return homo\n",
        "\n",
        "\n",
        "def fast_glcm_ASM(img, vmin=0, vmax=255, nbit=8, ks=5):\n",
        "    '''\n",
        "    calc glcm asm, energy\n",
        "    '''\n",
        "    h,w = img.shape\n",
        "    glcm = fast_glcm(img, vmin, vmax, nbit, ks)\n",
        "    asm = np.zeros((h,w), dtype=np.float32)\n",
        "    for i in range(nbit):\n",
        "        for j in range(nbit):\n",
        "            asm  += glcm[i,j]**2\n",
        "\n",
        "    ene = np.sqrt(asm)\n",
        "    return asm, ene\n",
        "\n",
        "\n",
        "def fast_glcm_max(img, vmin=0, vmax=255, nbit=8, ks=5):\n",
        "    '''\n",
        "    calc glcm max\n",
        "    '''\n",
        "    glcm = fast_glcm(img, vmin, vmax, nbit, ks)\n",
        "    max_  = np.max(glcm, axis=(0,1))\n",
        "    return max_\n",
        "\n",
        "\n",
        "def fast_glcm_entropy(img, vmin=0, vmax=255, nbit=8, ks=5):\n",
        "    '''\n",
        "    calc glcm entropy\n",
        "    '''\n",
        "    glcm = fast_glcm(img, vmin, vmax, nbit, ks)\n",
        "    pnorm = glcm / np.sum(glcm, axis=(0,1)) + 1./ks**2\n",
        "    ent  = np.sum(-pnorm * np.log(pnorm), axis=(0,1))\n",
        "    return ent"
      ],
      "execution_count": null,
      "outputs": []
    }
  ]
}