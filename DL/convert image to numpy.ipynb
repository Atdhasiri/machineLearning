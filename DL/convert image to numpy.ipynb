{
  "nbformat": 4,
  "nbformat_minor": 0,
  "metadata": {
    "colab": {
      "name": "pull data.ipynb",
      "provenance": []
    },
    "kernelspec": {
      "name": "python3",
      "display_name": "Python 3"
    },
    "language_info": {
      "name": "python"
    }
  },
  "cells": [
    {
      "cell_type": "markdown",
      "metadata": {
        "id": "MoaC22WMrAFw"
      },
      "source": [
        "**Import**"
      ]
    },
    {
      "cell_type": "code",
      "metadata": {
        "id": "qacMQUNHqv34"
      },
      "source": [
        "import sys, os, errno, shutil\n",
        "import numpy as np\n",
        "import cv2"
      ],
      "execution_count": null,
      "outputs": []
    },
    {
      "cell_type": "markdown",
      "metadata": {
        "id": "nukpzDO4rHV3"
      },
      "source": [
        "**Import drive from GOOGLE DRIVE**"
      ]
    },
    {
      "cell_type": "code",
      "metadata": {
        "id": "cQhlnxGwvBsx"
      },
      "source": [
        "from google.colab import drive\n",
        "drive.mount('/content/drive')"
      ],
      "execution_count": null,
      "outputs": []
    },
    {
      "cell_type": "markdown",
      "metadata": {
        "id": "GYIMnaUYr6Va"
      },
      "source": [
        "**Save to save data to .npy**"
      ]
    },
    {
      "cell_type": "code",
      "metadata": {
        "id": "17Hi-jqHquO-"
      },
      "source": [
        "def save_to_numpy(imgs,label,path,filename):\n",
        "    np.save(os.path.join(path, filename + '.npy'), imgs)\n",
        "    np.save(os.path.join(path, filename + '_label' + '.npy'), label)\n",
        "    print('Numpy files have been saved')"
      ],
      "execution_count": null,
      "outputs": []
    },
    {
      "cell_type": "markdown",
      "metadata": {
        "id": "pIHKEftzrfTU"
      },
      "source": [
        "**Recieve data from Train Folder with All fold and ALL classes**"
      ]
    },
    {
      "cell_type": "code",
      "metadata": {
        "id": "eY5lr0Haqyrl"
      },
      "source": [
        "data = [['Files', 'Classes']]\n",
        "classes = ['Glaucoma', 'Normal', 'Other']\n",
        "num_folders = ['1','2','3','4','5']\n",
        "temp_x = []\n",
        "temp_y = []\n",
        "x=[]\n",
        "y=[]\n",
        "for k in range(len(num_folders)):\n",
        "  for i in range(len(classes)):\n",
        "    images_lst = os.listdir('/content/drive/MyDrive/Dataset/Train/' + classes[i] + '/Fold-' + num_folders[k])\n",
        "    #print(images_lst)\n",
        "    count = 0\n",
        "\n",
        "    for j in images_lst:\n",
        "      count += 1\n",
        "      if count == 2:\n",
        "        break\n",
        "      print('\\n' + j + ' ----> ', count, '/', len(images_lst))\n",
        "      print('class : ' + classes[i])\n",
        "      print('fold : ' + num_folders[k])\n",
        "      img = cv2.imread('/content/drive/MyDrive/Dataset/Train/' + classes[i] + '/Fold-' + num_folders[k]+'/'+j)\n",
        "      img = cv2.resize(img, (256, 256))\n",
        "      temp_x.append(np.array(img))\n",
        "      temp_y.append(i)\n",
        "      \n",
        "  x.append(temp_x)\n",
        "  temp_x = []\n",
        "  y.append(temp_y)\n",
        "  temp_y = []\n",
        "\n",
        "#save to .npy\n",
        "\n",
        "#output_path = '/content/drive/MyDrive/Dataset/np_data/'\n",
        "#save_to_numpy(x,y,output_path,'Train')   \n",
        "print('---------------------------------------------------------------')\n",
        "print('done')\n",
        "print(len(x))\n",
        "print(len(y))"
      ],
      "execution_count": null,
      "outputs": []
    },
    {
      "cell_type": "markdown",
      "metadata": {
        "id": "xVhxNREor14k"
      },
      "source": [
        "**Recieve all data from Test**"
      ]
    },
    {
      "cell_type": "code",
      "metadata": {
        "id": "BBI-FELRq7qV"
      },
      "source": [
        "data = [['Files', 'Classes']]\n",
        "classes = ['Glaucoma', 'Normal', 'Other']\n",
        "#num_folders = ['1','2','3','4','5']\n",
        "#temp_x = []\n",
        "#temp_y = []\n",
        "x=[]\n",
        "y=[]\n",
        "\n",
        "for i in range(len(classes)):\n",
        "  images_lst = os.listdir('/content/drive/MyDrive/Dataset/Test/' + classes[i])\n",
        "  #print(images_lst)\n",
        "  count = 0\n",
        "\n",
        "  for j in images_lst:\n",
        "    count += 1\n",
        "    print('\\n' + j + ' ----> ', count, '/', len(images_lst))\n",
        "    print('class : ' + classes[i])\n",
        "    #print('fold : ' + num_folders[k])\n",
        "    img = cv2.imread('/content/drive/MyDrive/Dataset/Test/' + classes[i] +'/'+ j)\n",
        "    img = cv2.resize(img, (256, 256))\n",
        "    x.append(np.array(img))\n",
        "    if classes[i] == 'Glaucoma':\n",
        "      y.append('0')\n",
        "      print('Y appended : 0')\n",
        "    elif classes[i] == 'Normal':\n",
        "      y.append('1')\n",
        "      print('Y appended : 1')\n",
        "    else:\n",
        "      y.append('2')\n",
        "      print('Y appended : 2')\n",
        "\n",
        "      \n",
        "#save to .npy\n",
        "      \n",
        "#output_path = '/content/drive/MyDrive/Dataset/np_data/'\n",
        "#save_to_numpy(x,y,output_path,'test folder not the training')   \n",
        "print('---------------------------------------------------------------')\n",
        "print('done')\n",
        "print(len(x))\n",
        "print(len(y))"
      ],
      "execution_count": null,
      "outputs": []
    }
  ]
}