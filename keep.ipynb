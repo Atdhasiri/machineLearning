{
 "cells": [
  {
   "cell_type": "code",
   "execution_count": null,
   "metadata": {},
   "outputs": [],
   "source": [
    "from sklearn.metrics import roc_curve, auc\n",
    "import matplotlib.pyplot as plt\n",
    "\n",
    "n_classes = 3\n",
    "\n",
    "y_score = y_score_svm_list[0] #try to test on only 1 fold\n",
    "\n",
    "\n",
    "from sklearn import preprocessing\n",
    "\n",
    "\n",
    "classes_list = [\"Glaucoma\",\"Normal\",\"Other\"]\n",
    "fpr = dict()\n",
    "tpr = dict()\n",
    "roc_auc = dict()\n",
    "\n",
    "le = preprocessing.LabelEncoder()\n",
    "le.fit(y_test)\n",
    "y_test_le = le.transform(y_test)\n",
    "y_test_on_ovr = np.zeros((y_test_le.shape[0],len(classes_list)))\n",
    "for i in range(y_test_le.shape[0]):\n",
    "    for j in range(0,len(classes_list)):\n",
    "        if y_test_le[i]==j:\n",
    "            y_test_on_ovr[i][j]=1\n",
    "\n",
    "for i in range(len(classes_list)):\n",
    "    fpr[i], tpr[i], _ = roc_curve(y_test_on_ovr[:, i], y_score[:, i])\n",
    "    roc_auc[i] = auc(fpr[i], tpr[i])\n",
    "    \n",
    "for i in range(len(classes_list)):\n",
    "    plt.plot(fpr[i], tpr[i], lw=2,\n",
    "             label='ROC curve of class {0} (AUC = {1:0.3f})'\n",
    "             ''.format(classes_list[i], roc_auc[i]))\n",
    "    \n",
    "avg_fpr, avg_tpr = np.mean(fpr, axis=0), np.mean(tpr, axis=0)\n",
    "avg_roc_auc = auc(avg_fpr,avg_tpr)\n",
    "plt.plot(avg_fpr,avg_tpr, lw=2,label='average ROC curve (AUC = {1:0.3f})'''.format(avg_roc_auc))\n",
    "\n",
    "\n",
    "plt.rcParams[\"figure.figsize\"] = [12,10]\n",
    "plt.plot([0, 1], [0, 1], 'k--', lw=2)\n",
    "plt.xlim([-0.1,1.1])\n",
    "plt.ylim([-0.1,1.1])\n",
    "plt.xlabel('False Positive Rate')\n",
    "plt.ylabel('True Positive Rate')\n",
    "plt.title('Receiver operating characteristic for SVM with Gaussian kernel (Binary Relevance method) for label \"Genus\"')\n",
    "plt.legend(loc=\"lower right\")\n",
    "plt.show()"
   ]
  }
 ],
 "metadata": {
  "kernelspec": {
   "display_name": "Python 3",
   "language": "python",
   "name": "python3"
  },
  "language_info": {
   "codemirror_mode": {
    "name": "ipython",
    "version": 3
   },
   "file_extension": ".py",
   "mimetype": "text/x-python",
   "name": "python",
   "nbconvert_exporter": "python",
   "pygments_lexer": "ipython3",
   "version": "3.8.3"
  }
 },
 "nbformat": 4,
 "nbformat_minor": 4
}
