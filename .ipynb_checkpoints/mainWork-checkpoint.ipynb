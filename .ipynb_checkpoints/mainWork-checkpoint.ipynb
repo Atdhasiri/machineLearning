{
 "cells": [
  {
   "cell_type": "code",
   "execution_count": 1,
   "metadata": {},
   "outputs": [],
   "source": [
    "# Importing the libraries\n",
    "import numpy as np\n",
    "import matplotlib.pyplot as plt\n",
    "import pandas as pd\n",
    "\n",
    "from sklearn.ensemble import RandomForestClassifier\n",
    "from sklearn.svm import SVC \n",
    "from sklearn.preprocessing import StandardScaler\n",
    "import pickle"
   ]
  },
  {
   "cell_type": "code",
   "execution_count": null,
   "metadata": {},
   "outputs": [],
   "source": [
    "def joinFold(folds):\n",
    "    temp = []\n",
    "    for fold in folds:\n",
    "        temp += fold\n",
    "    return temp\n",
    "\n",
    "def scaleFeature(X_train,X_test):\n",
    "    scaled_X_train = sc.fit_transform(joinFold(X_train))\n",
    "    scaled_X_test = sc.transform(X_test[0])\n",
    "    return scaled_X_train , scaled_X_test"
   ]
  },
  {
   "cell_type": "code",
   "execution_count": 2,
   "metadata": {},
   "outputs": [],
   "source": [
    "#read data set\n",
    "train_set_fold1 = pd.read_csv('extracted_features.csv')\n",
    "train_set_fold2 = pd.read_csv('extracted_features.csv')\n",
    "train_set_fold3 = pd.read_csv('extracted_features.csv')\n",
    "train_set_fold4 = pd.read_csv('extracted_features.csv')\n",
    "train_set_fold5 = pd.read_csv('extracted_features.csv')\n",
    "test_set = pd.read_csv('extracted_features.csv')"
   ]
  },
  {
   "cell_type": "code",
   "execution_count": null,
   "metadata": {},
   "outputs": [],
   "source": [
    "#separate X and y\n",
    "X_fold1 = train_set_fold1.iloc[:, 1:].values\n",
    "y_fold1 = train_set_fold1.iloc[:, 0].values\n",
    "\n",
    "X_fold2 = train_set_fold2.iloc[:, 1:].values\n",
    "y_fold2 = train_set_fold2.iloc[:, 0].values\n",
    "\n",
    "X_fold3 = train_set_fold3.iloc[:, 1:].values\n",
    "y_fold3 = train_set_fold3.iloc[:, 0].values\n",
    "\n",
    "X_fold4 = train_set_fold4.iloc[:, 1:].values\n",
    "y_fold4 = train_set_fold4.iloc[:, 0].values\n",
    "\n",
    "X_fold5 = train_set_fold5.iloc[:, 1:].values\n",
    "y_fold5 = train_set_fold5.iloc[:, 0].values\n",
    "\n",
    "X_test = test_set.iloc[:, 1:].values\n",
    "y_test = test_set.iloc[:, 0].values"
   ]
  },
  {
   "cell_type": "code",
   "execution_count": null,
   "metadata": {},
   "outputs": [],
   "source": [
    "# Feature Scaling Object\n",
    "sc = StandardScaler()\n",
    "\n",
    "#5-fold cross validation\n",
    "from sklearn.model_selection import KFold\n",
    "X = np.array(X_fold1,X_fold2,X_fold3,X_fold4,X_fold5)\n",
    "kf = KFold(n_splits=5)\n",
    "kf.get_n_splits(X)\n",
    "for fold ,(train_index, val_index) in enumerate(kf.split(X)):\n",
    "    X_train, X_val = scaleFeature(X[train_index], X[val_index])\n",
    "    y_train, y_val = joinFold(y[train_index]), y[val_index]\n",
    "    \n",
    "    svm = SVC(kernel='rbf')  \n",
    "    svm.fit(X_train, y_train) \n",
    "\n",
    "    rf = RandomForestClassifier(n_estimators = 400, criterion = \"gini\")\n",
    "    rf.fit(X_train, y_train)\n",
    "    \n",
    "    #save model\n",
    "    pickle.dump(svm, open(\"svm_\" + (fold+1) + \".sav\" , 'wb'))\n",
    "    pickle.dump(rf, open(\"rf\" + (fold+1) + \".sav\" , 'wb'))\n",
    "    \n",
    "\n",
    "    \n",
    "    "
   ]
  },
  {
   "cell_type": "code",
   "execution_count": null,
   "metadata": {},
   "outputs": [],
   "source": [
    "X_test = sc.transform(X_test)"
   ]
  },
  {
   "cell_type": "code",
   "execution_count": null,
   "metadata": {},
   "outputs": [],
   "source": []
  },
  {
   "cell_type": "code",
   "execution_count": null,
   "metadata": {},
   "outputs": [],
   "source": []
  }
 ],
 "metadata": {
  "kernelspec": {
   "display_name": "Python 3",
   "language": "python",
   "name": "python3"
  },
  "language_info": {
   "codemirror_mode": {
    "name": "ipython",
    "version": 3
   },
   "file_extension": ".py",
   "mimetype": "text/x-python",
   "name": "python",
   "nbconvert_exporter": "python",
   "pygments_lexer": "ipython3",
   "version": "3.8.3"
  }
 },
 "nbformat": 4,
 "nbformat_minor": 4
}
