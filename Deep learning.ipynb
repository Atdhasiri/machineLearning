{
 "cells": [
  {
   "cell_type": "code",
   "execution_count": 17,
   "metadata": {
    "executionInfo": {
     "elapsed": 2766,
     "status": "ok",
     "timestamp": 1621157308039,
     "user": {
      "displayName": "ATDHASIRI SANGCHAN",
      "photoUrl": "",
      "userId": "00213473246349086575"
     },
     "user_tz": -420
    },
    "id": "Ee6eLK2Qxy3R"
   },
   "outputs": [],
   "source": [
    "import os, errno, sys\n",
    "import math\n",
    "import logging\n",
    "import numpy as np\n",
    "import tensorflow as tf\n",
    "from keras import backend as K\n",
    "from keras.layers import Dense\n",
    "from keras.models import Model \n",
    "from keras.optimizers import Adam, SGD, RMSprop\n",
    "from keras.utils.np_utils import to_categorical\n",
    "from keras.preprocessing.image import ImageDataGenerator\n",
    "from keras.callbacks import Callback, EarlyStopping, ModelCheckpoint, LearningRateScheduler, ReduceLROnPlateau\n",
    "from keras.applications.densenet import DenseNet121\n",
    "from keras.applications.nasnet import NASNetLarge\n",
    "from sklearn.utils.class_weight import compute_class_weight, compute_sample_weight\n",
    "from sklearn.metrics import roc_auc_score\n",
    "from sklearn.model_selection import StratifiedKFold\n",
    "from keras.applications import ResNet101V2 \n",
    "from keras.callbacks import  ModelCheckpoint\n",
    "import matplotlib.pyplot as plt\n",
    "import pandas as pd\n",
    "from sklearn.preprocessing import label_binarize\n",
    "from sklearn.model_selection import KFold\n",
    "from sklearn.metrics import confusion_matrix\n",
    "from sklearn.utils.multiclass import unique_labels\n",
    "from sklearn.metrics import roc_curve, auc\n",
    "from numpy import interp\n",
    "from itertools import cycle"
   ]
  },
  {
   "cell_type": "code",
   "execution_count": null,
   "metadata": {
    "colab": {
     "base_uri": "https://localhost:8080/"
    },
    "executionInfo": {
     "elapsed": 53576,
     "status": "ok",
     "timestamp": 1621156321700,
     "user": {
      "displayName": "ATDHASIRI SANGCHAN",
      "photoUrl": "",
      "userId": "00213473246349086575"
     },
     "user_tz": -420
    },
    "id": "s4cCTHeKFDt8",
    "outputId": "092b36da-72a0-40d1-bed3-dd1cf209e874"
   },
   "outputs": [],
   "source": [
    "X = np.load(\"/content/drive/MyDrive/Colab Notebooks/Dataset/np_data/Test Numpy.npy\",allow_pickle=True)\n",
    "y = np.load(\"/content/drive/MyDrive/Colab Notebooks/Dataset/np_data/SECOND TRAIN_label.npy\",allow_pickle=True)\n",
    "\n",
    "X_test = np.load(\"/content/drive/MyDrive/Colab Notebooks/Dataset/np_data/test folder not the training.npy\",allow_pickle=True)\n",
    "y_test = np.load(\"/content/drive/MyDrive/Colab Notebooks/Dataset/np_data/SECOND TEST_label.npy\",allow_pickle=True)\n",
    "\n",
    "X = np.array([np.array(fold) for fold in X])\n",
    "y = np.array([np.array(fold) for fold in y])\n",
    "X_test = np.array(X_test)\n",
    "y_test = np.array(y_test)"
   ]
  },
  {
   "cell_type": "code",
   "execution_count": 18,
   "metadata": {
    "executionInfo": {
     "elapsed": 2288,
     "status": "ok",
     "timestamp": 1621157310334,
     "user": {
      "displayName": "ATDHASIRI SANGCHAN",
      "photoUrl": "",
      "userId": "00213473246349086575"
     },
     "user_tz": -420
    },
    "id": "Kvd9Td-Txy3b"
   },
   "outputs": [],
   "source": [
    "def calculateFprTprAuc(binary_y_test, y_score):\n",
    "    # Compute ROC curve and ROC area for each class\n",
    "    n_classes = 3\n",
    "    \n",
    "    fpr = dict()\n",
    "    tpr = dict()\n",
    "    roc_auc = dict()\n",
    "    for i in range(n_classes):\n",
    "        fpr[i], tpr[i], _ = roc_curve(binary_y_test[:, i], y_score[:, i])\n",
    "        roc_auc[i] = auc(fpr[i], tpr[i])\n",
    "\n",
    "    # Compute micro-average ROC curve and ROC area\n",
    "    fpr[\"micro\"], tpr[\"micro\"], _ = roc_curve(binary_y_test.ravel(), y_score.ravel())\n",
    "    roc_auc[\"micro\"] = auc(fpr[\"micro\"], tpr[\"micro\"])\n",
    "    return fpr , tpr , roc_auc"
   ]
  },
  {
   "cell_type": "code",
   "execution_count": 19,
   "metadata": {
    "executionInfo": {
     "elapsed": 1923,
     "status": "ok",
     "timestamp": 1621157310335,
     "user": {
      "displayName": "ATDHASIRI SANGCHAN",
      "photoUrl": "",
      "userId": "00213473246349086575"
     },
     "user_tz": -420
    },
    "id": "vKDzN-bAxy3b"
   },
   "outputs": [],
   "source": [
    "def plotROC(fpr,tpr,roc_auc,title):\n",
    "    #aggregate all false positive rates\n",
    "    classes_list = np.array([\"Glaucoma\",\"Normal\",\"Other\"])\n",
    "    lw = 2\n",
    "    n_classes = 3\n",
    "    all_fpr = np.unique(np.concatenate([fpr[i] for i in range(n_classes)]))\n",
    "\n",
    "    #interpolate all ROC curves\n",
    "    mean_tpr = np.zeros_like(all_fpr)\n",
    "    for i in range(n_classes):\n",
    "        mean_tpr += interp(all_fpr, fpr[i], tpr[i])\n",
    "\n",
    "    #average tpr and compute AUC\n",
    "    mean_tpr /= n_classes\n",
    "\n",
    "    fpr[\"macro\"] = all_fpr\n",
    "    tpr[\"macro\"] = mean_tpr\n",
    "    roc_auc[\"macro\"] = auc(fpr[\"macro\"], tpr[\"macro\"])\n",
    "\n",
    "    # Plot all ROC curves\n",
    "    plt.figure()\n",
    "    plt.plot(fpr[\"micro\"], tpr[\"micro\"],\n",
    "             label='micro-average ROC curve (area = {0:0.2f})'\n",
    "                   ''.format(roc_auc[\"micro\"]),\n",
    "             color='deeppink', linestyle=':', linewidth=4)\n",
    "\n",
    "    plt.plot(fpr[\"macro\"], tpr[\"macro\"],\n",
    "             label='macro-average ROC curve (area = {0:0.2f})'\n",
    "                   ''.format(roc_auc[\"macro\"]),\n",
    "             color='navy', linestyle=':', linewidth=4)\n",
    "\n",
    "    colors = cycle(['aqua', 'darkorange', 'cornflowerblue'])\n",
    "    for i, color in zip(range(n_classes), colors):\n",
    "        plt.plot(fpr[i], tpr[i], color=color, lw=lw,\n",
    "                 label='ROC curve of {0} (area = {1:0.2f})'\n",
    "                 ''.format(classes_list[i], roc_auc[i]))\n",
    "\n",
    "    plt.plot([0, 1], [0, 1], 'k--', lw=lw)\n",
    "    plt.xlim([0.0, 1.0])\n",
    "    plt.ylim([0.0, 1.05])\n",
    "    plt.xlabel('False Positive Rate')\n",
    "    plt.ylabel('True Positive Rate')\n",
    "    plt.title(title)\n",
    "    plt.legend(loc=\"lower right\")\n",
    "    plt.show()"
   ]
  },
  {
   "cell_type": "code",
   "execution_count": 20,
   "metadata": {
    "executionInfo": {
     "elapsed": 1889,
     "status": "ok",
     "timestamp": 1621157310336,
     "user": {
      "displayName": "ATDHASIRI SANGCHAN",
      "photoUrl": "",
      "userId": "00213473246349086575"
     },
     "user_tz": -420
    },
    "id": "2YBIaC7zxy3c"
   },
   "outputs": [],
   "source": [
    "########## plot confusion matrix\n",
    "#class_list must be numpy array\n",
    "\n",
    "def plot_confusion_matrix(y_true, y_pred, classes,\n",
    "                          title=None,\n",
    "                          cmap=plt.cm.Blues):\n",
    "    \"\"\"\n",
    "    This function prints and plots the confusion matrix.\n",
    "    Normalization can be applied by setting `normalize=True`.\n",
    "    \"\"\"\n",
    "    np.set_printoptions(precision=2)\n",
    "    \n",
    "    if not title:\n",
    "        title = 'Normalized confusion matrix'\n",
    "\n",
    "    # Compute confusion matrix\n",
    "    cm = confusion_matrix(y_true, y_pred)\n",
    "    # Only use the labels that appear in the data\n",
    "    #classes = classes[unique_labels(y_true, y_pred)]\n",
    "    \n",
    "    cm_normalize = cm.astype('float') / cm.sum(axis=1)[:, np.newaxis]\n",
    "    print(\"Normalized confusion matrix\")\n",
    "\n",
    "    #print(cm)\n",
    "\n",
    "    fig, ax = plt.subplots()\n",
    "    im = ax.imshow(cm_normalize, interpolation='nearest', cmap=cmap)\n",
    "    ax.figure.colorbar(im, ax=ax)\n",
    "    # We want to show all ticks...\n",
    "    ax.set(xticks=np.arange(cm_normalize.shape[1]),\n",
    "           yticks=np.arange(cm_normalize.shape[0]),\n",
    "           # ... and label them with the respective list entries\n",
    "           xticklabels=classes, yticklabels=classes,\n",
    "           title=title,\n",
    "           ylabel='True label',\n",
    "           xlabel='Predicted label')\n",
    "\n",
    "    # Rotate the tick labels and set their alignment.\n",
    "    plt.setp(ax.get_xticklabels(), rotation=45, ha=\"right\",\n",
    "             rotation_mode=\"anchor\")\n",
    "\n",
    "    # Loop over data dimensions and create text annotations.\n",
    "    fmt = '.2f' #if normalize else 'd'\n",
    "    thresh = cm_normalize.max() / 2.\n",
    "    for i in range(cm_normalize.shape[0]):\n",
    "        for j in range(cm_normalize.shape[1]):\n",
    "            ax.text(j, i, \"{:.2%}\\n({:d})\".format(cm_normalize[i, j], cm[i, j]),\n",
    "                    ha=\"center\", va=\"center\",\n",
    "                    color=\"white\" if cm_normalize[i, j] > thresh else \"black\")\n",
    "    fig.tight_layout()\n",
    "    #plt.xlim(-0.5, len(np.unique(y))-0.5)\n",
    "    #plt.ylim(len(np.unique(y))-0.5, -0.5)\n",
    "    plt.show()\n",
    "    \n",
    "    \n",
    "    FP = cm.sum(axis=0) - np.diag(cm)  \n",
    "    FN = cm.sum(axis=1) - np.diag(cm)\n",
    "    TP = np.diag(cm)\n",
    "    TN = cm.sum() - (FP + FN + TP)\n",
    "\n",
    "    FP = FP.astype(float)\n",
    "    FN = FN.astype(float)\n",
    "    TP = TP.astype(float)\n",
    "    TN = TN.astype(float)\n",
    "    \n",
    "    # Sensitivity, hit rate, recall, or true positive rate\n",
    "    TPR = TP/(TP+FN)\n",
    "    # Specificity or true negative rate\n",
    "    TNR = TN/(TN+FP) \n",
    "    # Precision or positive predictive value\n",
    "    PPV = TP/(TP+FP)\n",
    "    # Negative predictive value\n",
    "    NPV = TN/(TN+FN)\n",
    "    # Fall out or false positive rate\n",
    "    FPR = FP/(FP+TN)\n",
    "    # False negative rate\n",
    "    FNR = FN/(TP+FN)\n",
    "    # False discovery rate\n",
    "    FDR = FP/(TP+FP)\n",
    "    # F1-score\n",
    "    F1 = 2*((PPV*TPR)/(PPV+TPR))\n",
    "    # Overall accuracy\n",
    "    ACC = (TP+TN)/(TP+FP+FN+TN)\n",
    "\n",
    "    print(\"=\"*60)\n",
    "    print(\"{:<26} | {:>8} {:>8} {:>8}\".format(\"value\", \"Glaucoma\", \"Normal\", \"Other\"))\n",
    "    print(\"=\"*60)\n",
    "    print(\"{:<26} | {:>8.2f} {:>8.2f} {:>8.2f}\".format(\"Sensitivity(TPR)\", TPR[0], TPR[1], TPR[2]))\n",
    "    print(\"{:<26} | {:>8.2f} {:>8.2f} {:>8.2f}\".format(\"Specificity(TNR)\", TNR[0], TNR[1], TNR[2]))\n",
    "    print(\"{:<26} | {:>8.2f} {:>8.2f} {:>8.2f}\".format(\"Precision(PPV)\", PPV[0], PPV[1], PPV[2]))\n",
    "    print(\"{:<26} | {:>8.2f} {:>8.2f} {:>8.2f}\".format(\"Negative predictive value\", NPV[0], NPV[1], NPV[2]))\n",
    "    print(\"{:<26} | {:>8.2f} {:>8.2f} {:>8.2f}\".format(\"False positive rate\", FPR[0], FPR[1], FPR[2]))\n",
    "    print(\"{:<26} | {:>8.2f} {:>8.2f} {:>8.2f}\".format(\"False negative rate\", FNR[0], FNR[1], FNR[2]))\n",
    "    print(\"{:<26} | {:>8.2f} {:>8.2f} {:>8.2f}\".format(\"False discovery rate\", FDR[0], FDR[1], FDR[2]))\n",
    "    print(\"{:<26} | {:>8.2f} {:>8.2f} {:>8.2f}\".format(\"F1-score\", F1[0], F1[1], F1[2]))\n",
    "    print(\"{:<26} | {:>8.2f} {:>8.2f} {:>8.2f}\".format(\"Overall accuracy\", ACC[0], ACC[1], ACC[2]))\n",
    "\n"
   ]
  },
  {
   "cell_type": "code",
   "execution_count": 21,
   "metadata": {
    "executionInfo": {
     "elapsed": 1826,
     "status": "ok",
     "timestamp": 1621157310337,
     "user": {
      "displayName": "ATDHASIRI SANGCHAN",
      "photoUrl": "",
      "userId": "00213473246349086575"
     },
     "user_tz": -420
    },
    "id": "xB6nFfedxy3f"
   },
   "outputs": [],
   "source": [
    "n_fold = 5\n",
    "height, width = 256, 256\n",
    "batch_size = 32\n",
    "epochs = 50\n",
    "num_output = 3\n",
    "base_lr = 0.0001\n",
    "optimizers = {'adam': Adam(lr=base_lr),\n",
    "\t\t\t\t\t 'sgd' : SGD(lr=base_lr, decay=1e-6, momentum=0.9, nesterov=True),\n",
    "\t\t\t\t\t 'rms' : RMSprop(lr=base_lr, rho=0.9, epsilon=1e-08, decay=0.0)\n",
    "\t\t\t\t\t}"
   ]
  },
  {
   "cell_type": "code",
   "execution_count": 22,
   "metadata": {
    "executionInfo": {
     "elapsed": 1736,
     "status": "ok",
     "timestamp": 1621157310339,
     "user": {
      "displayName": "ATDHASIRI SANGCHAN",
      "photoUrl": "",
      "userId": "00213473246349086575"
     },
     "user_tz": -420
    },
    "id": "ypx-OJ4Yxy3g"
   },
   "outputs": [],
   "source": [
    "def build_model(base_model_name):\n",
    "    \n",
    "    print('Creating Model : {}.......'.format(base_model_name.upper()))\n",
    "    if base_model_name == 'DenseNet121' :\n",
    "        init_model = DenseNet121(input_shape= (height, width ,3), include_top=False, weights='imagenet', pooling='avg')\n",
    "        x = init_model.output\n",
    "        out_layer = Dense(num_output, activation=\"softmax\")(x)\n",
    "        model = Model(init_model.input, out_layer)\n",
    "    elif base_model_name == 'ResNet101V2' :\n",
    "        init_model = ResNet101V2(input_shape= (height, width ,3), include_top=False, weights='imagenet', pooling='avg')\n",
    "        x = init_model.output\n",
    "        out_layer = Dense(num_output, activation=\"softmax\")(x)\n",
    "        model = Model(init_model.input,out_layer)\n",
    "    else :\n",
    "        sys.exit(\"Model Not Support\")\n",
    "    return\tmodel"
   ]
  },
  {
   "cell_type": "code",
   "execution_count": 23,
   "metadata": {
    "colab": {
     "base_uri": "https://localhost:8080/"
    },
    "executionInfo": {
     "elapsed": 1695,
     "status": "ok",
     "timestamp": 1621157310339,
     "user": {
      "displayName": "ATDHASIRI SANGCHAN",
      "photoUrl": "",
      "userId": "00213473246349086575"
     },
     "user_tz": -420
    },
    "id": "DS-5lP_6xy3g",
    "outputId": "e4fcbcde-dfab-4f4d-f075-b279ce9cf2b9"
   },
   "outputs": [
    {
     "name": "stdout",
     "output_type": "stream",
     "text": [
      "WARNING:tensorflow:`epsilon` argument is deprecated and will be removed, use `min_delta` instead.\n"
     ]
    }
   ],
   "source": [
    "earlyStopping = EarlyStopping(monitor='val_loss', patience=10, verbose=0, mode='min')\n",
    "\n",
    "reduce_lr_loss = ReduceLROnPlateau(monitor='val_loss', factor=0.1, patience=7, verbose=1, epsilon=1e-4, mode='min')"
   ]
  },
  {
   "cell_type": "code",
   "execution_count": null,
   "metadata": {
    "colab": {
     "base_uri": "https://localhost:8080/",
     "height": 162
    },
    "executionInfo": {
     "elapsed": 1957,
     "status": "error",
     "timestamp": 1621157310718,
     "user": {
      "displayName": "ATDHASIRI SANGCHAN",
      "photoUrl": "",
      "userId": "00213473246349086575"
     },
     "user_tz": -420
    },
    "id": "AyFGEslzxy3i",
    "outputId": "0649a6d3-32dd-4b5c-ac49-edd3539f1166"
   },
   "outputs": [],
   "source": [
    "kf = KFold(n_splits=5)\n",
    "kf.get_n_splits(X)\n",
    "bestFold = 0\n",
    "bestModel = None\n",
    "best_sum_average_AUC = 0\n",
    "best_sum_3class_AUC = 0\n",
    "for i ,(train_index, val_index) in enumerate(kf.split(X)):\n",
    "    \n",
    "    model_name = \"DenseNet121\" \n",
    "    model = build_model(model_name)\n",
    "    #model.summary()\n",
    "    \n",
    "    #class_weights = get_class_weights(y_train[train_idx])\n",
    "    model.compile(optimizer=optimizers['adam'], loss='categorical_crossentropy', metrics=['accuracy'])\n",
    "    \n",
    "    checkpoint_path =  \"/content/drive/MyDrive/Colab Notebooks/Dataset/weight/{}-weights_fold-{}.hdf5\".format(model_name,i+1)\n",
    "    mcp_save = ModelCheckpoint(checkpoint_path, save_best_only=True, monitor='val_loss', mode='min',save_weights_only=True)\n",
    "    \n",
    "    X_train = np.concatenate(X[train_index],axis=0)\n",
    "    X_val = X[val_index][0]\n",
    "    y_train = np.concatenate(y[train_index],axis=0)\n",
    "    y_val = y[val_index][0]\n",
    "\n",
    "    y_train = to_categorical(y_train,3)\n",
    "    y_val = to_categorical(y_val,3)\n",
    "\n",
    "    \n",
    "    print('Training model.....')\n",
    "    # train_datagen = ImageDataGenerator( #samplewise_center=True,\n",
    "    #     # rotation_range=90,\n",
    "    #     # width_shift_range=0.2,\n",
    "    #     # height_shift_range=0.2,\n",
    "    #     #zoom_range=0.2,\n",
    "    #     # horizontal_flip=True,\n",
    "    #     # vertical_flip=True,\n",
    "    #     # fill_mode = 'constant'\n",
    "    #     )\n",
    "\n",
    "    # train_datagen.fit(X_train, seed=1)\n",
    "    # train_gen =  train_datagen.flow(X_train, y_train, batch_size=batch_size)\n",
    "    # # \ttrain_crops = crop_generator(train_gen, 224)\n",
    "\n",
    "    # history = model.fit(train_gen,\n",
    "    #     steps_per_epoch = (len(X_train) / batch_size ), \n",
    "    #     epochs = epochs,\n",
    "    #     validation_data=(X_train, y_valid),\n",
    "    #     callbacks = cp_callback\n",
    "    #     )\n",
    "    history = model.fit(X_train,y_train,\n",
    "      steps_per_epoch = (len(X_train) / batch_size ), \n",
    "      epochs = 50,\n",
    "      validation_data=(X_val, y_val),\n",
    "      callbacks=[earlyStopping, mcp_save, reduce_lr_loss]\n",
    "      )\n",
    "    \n",
    "    \n",
    "    binary_y_val = label_binarize(y_val, classes=[0, 1, 2])\n",
    "\n",
    "    fpr, tpr, roc_auc = calculateFprTprAuc(binary_y_val, model.predict(X_val))\n",
    "    plotROC(fpr,tpr,roc_auc,\"ROC curve fold-\"+str(i+1))\n",
    "\n",
    "\n",
    "    if roc_auc[\"micro\"]+roc_auc[\"macro\"] > best_sum_average_AUC:\n",
    "        best_sum_average_AUC = roc_auc[\"micro\"]+roc_auc[\"macro\"]\n",
    "        best_sum_3class_AUC = roc_auc[0] + roc_auc[1] + roc_auc[2]\n",
    "        bestModel = model\n",
    "        bestFold = i+1\n",
    "    elif roc_auc[\"micro\"]+roc_auc[\"macro\"] == best_sum_average_AUC and best_sum_3class_AUC < roc_auc[0] + roc_auc[1] + roc_auc[2]:\n",
    "        best_sum_average_AUC = roc_auc[\"micro\"]+roc_auc[\"macro\"]\n",
    "        best_sum_3class_AUC = roc_auc[0] + roc_auc[1] + roc_auc[2]\n",
    "        bestModel = model\n",
    "        bestFold = i+1\n",
    "print(\"best model is fold\",bestFold)\n",
    "    \n",
    "\n",
    "\n"
   ]
  },
  {
   "cell_type": "code",
   "execution_count": null,
   "metadata": {
    "executionInfo": {
     "elapsed": 1888,
     "status": "aborted",
     "timestamp": 1621157310717,
     "user": {
      "displayName": "ATDHASIRI SANGCHAN",
      "photoUrl": "",
      "userId": "00213473246349086575"
     },
     "user_tz": -420
    },
    "id": "Rqg9LZi6jJ9n"
   },
   "outputs": [],
   "source": [
    "binary_y_test = label_binarize(y_test, classes=[0, 1, 2])\n",
    "fpr, tpr, roc_auc = calculateFprTprAuc(binary_y_test, bestModel.predict(X_test))\n",
    "plotROC(fpr,tpr,roc_auc,\"ROC curve of best model with test set\")"
   ]
  },
  {
   "cell_type": "code",
   "execution_count": null,
   "metadata": {
    "executionInfo": {
     "elapsed": 1460,
     "status": "aborted",
     "timestamp": 1621157071032,
     "user": {
      "displayName": "ATDHASIRI SANGCHAN",
      "photoUrl": "",
      "userId": "00213473246349086575"
     },
     "user_tz": -420
    },
    "id": "v-d-XsRIyVXS"
   },
   "outputs": [],
   "source": [
    "classes_list = [\"Glaucoma\",\"Normal\",\"Other\"]\n",
    "display_labels = classes_list\n",
    "y_prob = bestModel.predict(X_test)\n",
    "y_pred = np.argmax(y_prob, axis=1)\n",
    "\n",
    "plot_confusion_matrix(y_test, y_pred, classes_list, title=\"Confusion Metric\")\n",
    "\n"
   ]
  }
 ],
 "metadata": {
  "accelerator": "GPU",
  "colab": {
   "collapsed_sections": [],
   "name": "Untitled.ipynb",
   "provenance": []
  },
  "kernelspec": {
   "display_name": "Python 3",
   "language": "python",
   "name": "python3"
  },
  "language_info": {
   "codemirror_mode": {
    "name": "ipython",
    "version": 3
   },
   "file_extension": ".py",
   "mimetype": "text/x-python",
   "name": "python",
   "nbconvert_exporter": "python",
   "pygments_lexer": "ipython3",
   "version": "3.8.9"
  }
 },
 "nbformat": 4,
 "nbformat_minor": 4
}
