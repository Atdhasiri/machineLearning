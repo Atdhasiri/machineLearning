{
  "nbformat": 4,
  "nbformat_minor": 0,
  "metadata": {
    "colab": {
      "name": "testOnly.ipynb",
      "provenance": []
    },
    "kernelspec": {
      "name": "python3",
      "display_name": "Python 3"
    },
    "language_info": {
      "name": "python"
    }
  },
  "cells": [
    {
      "cell_type": "markdown",
      "metadata": {
        "id": "ACfNt3Lps7fA"
      },
      "source": [
        "**Connect with Google drive**"
      ]
    },
    {
      "cell_type": "code",
      "metadata": {
        "id": "cVNJmJ6Gs5C_"
      },
      "source": [
        "from google.colab import drive\n",
        "drive.mount('/content/drive')"
      ],
      "execution_count": null,
      "outputs": []
    },
    {
      "cell_type": "markdown",
      "metadata": {
        "id": "rnGnZkqns_Qo"
      },
      "source": [
        "**Augmentation part**"
      ]
    },
    {
      "cell_type": "code",
      "metadata": {
        "id": "xTeGDbbtskWE"
      },
      "source": [
        "import cv2\n",
        "import os\n",
        "from skimage.io import imread, imshow\n",
        "from PIL import Image\n",
        "import tensorflow as tf\n",
        "from tensorflow import keras\n",
        "\n",
        "def augment(image):\n",
        "  image = tf.image.random_brightness(image, 0.1)\n",
        "  image = tf.image.random_contrast(image,0.7,1.3)\n",
        "  \n",
        "  image = tf.image.random_hue(image,0.005)\n",
        "  image = tf.image.random_saturation(image,0.8, 1.3)\n",
        "\n",
        "  image = tf.image.adjust_gamma(image,1)\n",
        "  image = tf.image.random_flip_left_right(image)\n",
        "  image = tf.image.random_flip_up_down(image)\n",
        "  return image\n",
        "\n",
        "#Path that you want to augment\n",
        "path = '/content/drive/MyDrive/Dataset/Train/Glaucoma'\n",
        "\n",
        "folders = os.listdir(path)\n",
        "\n",
        "for folder_name in folders:\n",
        "    files = os.listdir(path+'/'+ folder_name)\n",
        "    for file_name in files:\n",
        "        img = cv2.imread(path+'/'+ folder_name + '/'+file_name)\n",
        "\n",
        "        for i in range(1):\n",
        "          cv2.imwrite(path+'/'+folder_name+'/'+file_name[:file_name.index('.')]+'_augmented'+str(i+1)+file_name[file_name.index('.'):], augment(img).numpy())\n",
        "        \n",
        "\n",
        "        \n",
        "\n",
        "\n",
        "\n",
        "print(\"finish\")"
      ],
      "execution_count": null,
      "outputs": []
    }
  ]
}